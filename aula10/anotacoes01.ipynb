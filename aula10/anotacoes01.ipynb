{
 "cells": [
  {
   "cell_type": "markdown",
   "metadata": {},
   "source": [
    "## Manipulação de string\n",
    "- split = Irá separar cada palavra em uma lista  \n",
    "\n",
    "- strip = Irá ignorar os espaços antes e depois da palavra ou frase \n",
    "\n",
    "- join = Irá juntar tudo \n",
    "\n",
    "- upper = Irá deixar tudo maiúsculo\n",
    "\n",
    "- lower = Irá deixar tudo minúsculo\n",
    "\n",
    "- replace = Irá substituir "
   ]
  },
  {
   "cell_type": "markdown",
   "metadata": {},
   "source": [
    "Crie um programa que pede que o usuário digite um nome ou uma frase, verifique se esse conteúdo digitado é um palíndromo ou não, exibindo em tela esse resultado."
   ]
  },
  {
   "cell_type": "code",
   "execution_count": 39,
   "metadata": {},
   "outputs": [
    {
     "name": "stdout",
     "output_type": "stream",
     "text": [
      "MARINA ANIRAM\n",
      "Não é um palíndromo\n"
     ]
    }
   ],
   "source": [
    "frase= str(input(\"Digite uma palavra ou frase: \")).strip().upper()\n",
    "\n",
    "palavras= frase.split()\n",
    "caractere= ''.join(palavras)\n",
    "fraseinvertida = ''\n",
    "\n",
    "for i in range(len(caractere) -1, -1, -1):\n",
    "    fraseinvertida += caractere[i]\n",
    "    \n",
    "print(caractere, fraseinvertida)\n",
    "\n",
    "if fraseinvertida == caractere:\n",
    "    print('É um palíndromo')\n",
    "    \n",
    "else:\n",
    "    print('Não é um palíndromo')\n",
    "    "
   ]
  },
  {
   "cell_type": "markdown",
   "metadata": {},
   "source": [
    "## Explicação do Código"
   ]
  },
  {
   "cell_type": "markdown",
   "metadata": {},
   "source": [
    "Ignorando os espaços antes e depois da palavra ou frase"
   ]
  },
  {
   "cell_type": "code",
   "execution_count": 25,
   "metadata": {},
   "outputs": [
    {
     "name": "stdout",
     "output_type": "stream",
     "text": [
      "MARINA NOVAES FREIRE\n"
     ]
    }
   ],
   "source": [
    "frase= str(input(\"Digite uma palavra ou frase: \")).strip().upper()\n",
    "print(frase)"
   ]
  },
  {
   "cell_type": "markdown",
   "metadata": {},
   "source": [
    "Separando a palavra ou frase em uma lista"
   ]
  },
  {
   "cell_type": "code",
   "execution_count": 26,
   "metadata": {},
   "outputs": [
    {
     "name": "stdout",
     "output_type": "stream",
     "text": [
      "MARINA NOVAES FREIRE\n",
      "['MARINA', 'NOVAES', 'FREIRE']\n"
     ]
    }
   ],
   "source": [
    "frase= str(input(\"Digite uma palavra ou frase: \")).strip().upper()\n",
    "print(frase)\n",
    "palavras= frase.split()\n",
    "print(palavras)"
   ]
  },
  {
   "cell_type": "markdown",
   "metadata": {},
   "source": [
    "Juntando tudo em uma palavra só "
   ]
  },
  {
   "cell_type": "code",
   "execution_count": 27,
   "metadata": {},
   "outputs": [
    {
     "name": "stdout",
     "output_type": "stream",
     "text": [
      "MARINA NOVAES FREIRE\n",
      "['MARINA', 'NOVAES', 'FREIRE']\n",
      "MARINANOVAESFREIRE\n"
     ]
    }
   ],
   "source": [
    "frase= str(input(\"Digite uma palavra ou frase: \")).strip().upper()\n",
    "print(frase)\n",
    "palavras= frase.split()\n",
    "print(palavras)\n",
    "caractere= ''.join(palavras)\n",
    "print (caractere)"
   ]
  },
  {
   "cell_type": "markdown",
   "metadata": {},
   "source": [
    "Exibindo verificando se a palavra é igual de trás para frente"
   ]
  },
  {
   "cell_type": "code",
   "execution_count": 38,
   "metadata": {},
   "outputs": [
    {
     "name": "stdout",
     "output_type": "stream",
     "text": [
      "MARINA ANIRAM\n",
      "Não é um palíndromo\n"
     ]
    }
   ],
   "source": [
    "frase= str(input(\"Digite uma palavra ou frase: \")).strip().upper()\n",
    "\n",
    "palavras= frase.split()\n",
    "caractere= ''.join(palavras)\n",
    "fraseinvertida = ''\n",
    "\n",
    "for i in range(len(caractere) -1, -1, -1):\n",
    "    fraseinvertida += caractere[i]\n",
    "    \n",
    "print(caractere, fraseinvertida)\n",
    "\n",
    "if fraseinvertida == caractere:\n",
    "    print('É um palíndromo')\n",
    "    \n",
    "else:\n",
    "    print('Não é um palíndromo')\n",
    "    "
   ]
  },
  {
   "cell_type": "markdown",
   "metadata": {},
   "source": [
    "### .replace()"
   ]
  },
  {
   "cell_type": "markdown",
   "metadata": {},
   "source": [
    "Removendo o sinal"
   ]
  },
  {
   "cell_type": "code",
   "execution_count": 1,
   "metadata": {},
   "outputs": [
    {
     "name": "stdout",
     "output_type": "stream",
     "text": [
      "123-123-123\n",
      "123123123\n"
     ]
    }
   ],
   "source": [
    "cpf= input('Digite um cpf: ')\n",
    "print(cpf)\n",
    "print(cpf.replace('-', ''))"
   ]
  },
  {
   "cell_type": "markdown",
   "metadata": {},
   "source": [
    "Substituindo o sinal por outro"
   ]
  },
  {
   "cell_type": "code",
   "execution_count": 2,
   "metadata": {},
   "outputs": [
    {
     "name": "stdout",
     "output_type": "stream",
     "text": [
      "123-123-123\n",
      "123*123*123\n"
     ]
    }
   ],
   "source": [
    "cpf= input('Digite um cpf: ')\n",
    "print(cpf)\n",
    "print(cpf.replace('-', '*'))"
   ]
  }
 ],
 "metadata": {
  "kernelspec": {
   "display_name": "venv",
   "language": "python",
   "name": "python3"
  },
  "language_info": {
   "codemirror_mode": {
    "name": "ipython",
    "version": 3
   },
   "file_extension": ".py",
   "mimetype": "text/x-python",
   "name": "python",
   "nbconvert_exporter": "python",
   "pygments_lexer": "ipython3",
   "version": "3.12.5"
  }
 },
 "nbformat": 4,
 "nbformat_minor": 2
}
