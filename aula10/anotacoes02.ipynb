{
 "cells": [
  {
   "cell_type": "markdown",
   "metadata": {},
   "source": [
    "## Dicionário\n",
    "\n",
    "Inicialmente é atribuído a uma variável, os dados são passados como parâmetro \n",
    "o método construtor dict() converterá internamente a variável em chave \n",
    "e seu atributo como valor"
   ]
  },
  {
   "cell_type": "code",
   "execution_count": 1,
   "metadata": {},
   "outputs": [
    {
     "name": "stdout",
     "output_type": "stream",
     "text": [
      "{'Pão': 'R$1,99', 'Açúcar': 'R$4,99', 'Café': 'R$3,99', 'Macarrão': 'R$4,99', 'Carne': 'R$16,99'}\n"
     ]
    }
   ],
   "source": [
    "dicionario = dict(\n",
    "    Pão= 'R$1,99',\n",
    "    Açúcar= 'R$4,99',\n",
    "    Café = 'R$3,99',\n",
    "    Macarrão= 'R$4,99',\n",
    "    Carne= 'R$16,99'\n",
    ")\n",
    "print(dicionario)"
   ]
  },
  {
   "cell_type": "markdown",
   "metadata": {},
   "source": [
    "Criando dicionário de produtos"
   ]
  },
  {
   "cell_type": "markdown",
   "metadata": {},
   "source": [
    "- lista = []\n",
    "- dict= {}\n",
    "- tupla= () Quando a tupla for utilizada os dados não podem ser alterados"
   ]
  },
  {
   "cell_type": "code",
   "execution_count": 2,
   "metadata": {},
   "outputs": [
    {
     "name": "stdout",
     "output_type": "stream",
     "text": [
      "{101: {'nome': 'Chocolate', 'preco': 5.0, 'estoque': 10}, 102: {'nome': 'Pão', 'preco': 16.99, 'estoque': 100}, 103: {'nome': 'Biscoito', 'preco': 2.99, 'estoque': 20}}\n"
     ]
    }
   ],
   "source": [
    "produtos={\n",
    "    101: {'nome' : 'Chocolate' , 'preco' : 5.00, 'estoque' : 10},\n",
    "    102: {'nome' : 'Pão' , 'preco' : 16.99, 'estoque' : 100},\n",
    "    103: {'nome' : 'Biscoito' , 'preco' : 2.99, 'estoque' : 20}\n",
    "}\n",
    "print(produtos)"
   ]
  },
  {
   "cell_type": "markdown",
   "metadata": {},
   "source": [
    "produtos = tudo\n",
    "\n",
    "codigo = 101,102,13\n",
    "\n",
    "info = nome, preco, estoque"
   ]
  },
  {
   "cell_type": "code",
   "execution_count": 4,
   "metadata": {},
   "outputs": [
    {
     "name": "stdout",
     "output_type": "stream",
     "text": [
      "Códigos: 101\n",
      "Nome : Chocolate\n",
      "Preço: 5.0\n",
      "Estoque: 10\n",
      "\n",
      "Códigos: 102\n",
      "Nome : Pão\n",
      "Preço: 16.99\n",
      "Estoque: 100\n",
      "\n",
      "Códigos: 103\n",
      "Nome : Biscoito\n",
      "Preço: 2.99\n",
      "Estoque: 20\n",
      "\n"
     ]
    }
   ],
   "source": [
    "produtos={\n",
    "    101: {'nome' : 'Chocolate' , 'preco' : 5.00, 'estoque' : 10},\n",
    "    102: {'nome' : 'Pão' , 'preco' : 16.99, 'estoque' : 100},\n",
    "    103: {'nome' : 'Biscoito' , 'preco' : 2.99, 'estoque' : 20}\n",
    "}\n",
    "\n",
    "for codigo, info in produtos.items():\n",
    "    print(f'Códigos: {codigo}')\n",
    "    print(f'Nome : {info['nome']}')\n",
    "    print(f'Preço: {info['preco']}')\n",
    "    print(f'Estoque: {info['estoque']}')\n",
    "    print()"
   ]
  },
  {
   "cell_type": "markdown",
   "metadata": {},
   "source": [
    ".items() = Todos os itens do dicionário\n",
    "\n",
    ".values() = Imprime apenas os valores do dicionário"
   ]
  },
  {
   "cell_type": "code",
   "execution_count": 11,
   "metadata": {},
   "outputs": [
    {
     "name": "stdout",
     "output_type": "stream",
     "text": [
      "dict_items([('nome', 'Chocolate'), ('preco', 5.0), ('estoque', 10)])\n",
      "Chocolate\n",
      "dict_values([{'nome': 'Chocolate', 'preco': 5.0, 'estoque': 10}, {'nome': 'Pão', 'preco': 16.99, 'estoque': 100}, {'nome': 'Biscoito', 'preco': 2.99, 'estoque': 20}])\n",
      "dict_values(['Chocolate', 5.0, 10])\n"
     ]
    }
   ],
   "source": [
    "produtos={\n",
    "    101: {'nome' : 'Chocolate' , 'preco' : 5.00, 'estoque' : 10},\n",
    "    102: {'nome' : 'Pão' , 'preco' : 16.99, 'estoque' : 100},\n",
    "    103: {'nome' : 'Biscoito' , 'preco' : 2.99, 'estoque' : 20}\n",
    "}\n",
    "\n",
    "print(produtos[101].items())\n",
    "print(produtos[101]['nome'])\n",
    "print(produtos.values())\n",
    "print(produtos[101].values())\n",
    "\n"
   ]
  }
 ],
 "metadata": {
  "kernelspec": {
   "display_name": "venv",
   "language": "python",
   "name": "python3"
  },
  "language_info": {
   "codemirror_mode": {
    "name": "ipython",
    "version": 3
   },
   "file_extension": ".py",
   "mimetype": "text/x-python",
   "name": "python",
   "nbconvert_exporter": "python",
   "pygments_lexer": "ipython3",
   "version": "3.12.5"
  }
 },
 "nbformat": 4,
 "nbformat_minor": 2
}
