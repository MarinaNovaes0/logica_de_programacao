{
 "cells": [
  {
   "cell_type": "markdown",
   "metadata": {},
   "source": [
    "Crie um sistema que crie uma contagem de 1 até 100 apenas com números ímpares, depois exiba quantos são os números ímpares e a soma deles"
   ]
  },
  {
   "cell_type": "code",
   "execution_count": 7,
   "metadata": {},
   "outputs": [
    {
     "name": "stdout",
     "output_type": "stream",
     "text": [
      "São 50 números ímpares\n",
      "E a soma dos números ímpares é: 2500\n"
     ]
    }
   ],
   "source": [
    "contador= 0\n",
    "soma= 0\n",
    "\n",
    "for i in range(1, 101):\n",
    "    if i %2 !=0:\n",
    "        contador +=1\n",
    "        soma += i\n",
    "print(f'São {contador} números ímpares')\n",
    "print(f'E a soma dos números ímpares é: {soma}')"
   ]
  }
 ],
 "metadata": {
  "kernelspec": {
   "display_name": "venv",
   "language": "python",
   "name": "python3"
  },
  "language_info": {
   "codemirror_mode": {
    "name": "ipython",
    "version": 3
   },
   "file_extension": ".py",
   "mimetype": "text/x-python",
   "name": "python",
   "nbconvert_exporter": "python",
   "pygments_lexer": "ipython3",
   "version": "3.12.5"
  }
 },
 "nbformat": 4,
 "nbformat_minor": 2
}
