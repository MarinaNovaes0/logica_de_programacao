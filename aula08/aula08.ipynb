{
 "cells": [
  {
   "cell_type": "markdown",
   "metadata": {},
   "source": [
    "# Anotações"
   ]
  },
  {
   "cell_type": "markdown",
   "metadata": {},
   "source": [
    "- ### Whle e For"
   ]
  },
  {
   "cell_type": "markdown",
   "metadata": {},
   "source": [
    "Criando uma escadinha"
   ]
  },
  {
   "cell_type": "code",
   "execution_count": 4,
   "metadata": {},
   "outputs": [
    {
     "name": "stdout",
     "output_type": "stream",
     "text": [
      "    *\n",
      "    **\n",
      "    ***\n",
      "    ****\n"
     ]
    }
   ],
   "source": [
    "altura = int(input(\"Digite a altura da árvore: \"))\n",
    "\n",
    "for i in range(1, altura):\n",
    "    for _ in range (altura - 1):\n",
    "        print(' ',end='')\n",
    "    for _ in range(i):\n",
    "        print('*',end='')\n",
    "    print()\n",
    "        \n",
    "    "
   ]
  },
  {
   "cell_type": "markdown",
   "metadata": {},
   "source": [
    "Sem o contador +=1 o laço irá se repetir infinitamente e o break trava o sistema"
   ]
  },
  {
   "cell_type": "code",
   "execution_count": 9,
   "metadata": {},
   "outputs": [
    {
     "name": "stdout",
     "output_type": "stream",
     "text": [
      "Olá Mundo\n"
     ]
    }
   ],
   "source": [
    "contador = 4\n",
    "while contador < 5:\n",
    "    print('Olá Mundo')\n",
    "    contador +=1\n",
    "    break"
   ]
  },
  {
   "cell_type": "markdown",
   "metadata": {},
   "source": [
    "Se encontrar o nome na lista ele para se não vai continuar"
   ]
  },
  {
   "cell_type": "code",
   "execution_count": 13,
   "metadata": {},
   "outputs": [
    {
     "name": "stdout",
     "output_type": "stream",
     "text": [
      "Encontrei o Dias\n"
     ]
    }
   ],
   "source": [
    "lista = ['lucas', 'nathan', 'juan', 'quaresma', 'dias']\n",
    "while True:\n",
    "    if 'dias' in lista:\n",
    "        print(\"Encontrei o Dias\")\n",
    "        break"
   ]
  },
  {
   "cell_type": "markdown",
   "metadata": {},
   "source": [
    "Se um nome for adicionadas ele continua se não ele para"
   ]
  },
  {
   "cell_type": "code",
   "execution_count": 15,
   "metadata": {},
   "outputs": [
    {
     "name": "stdout",
     "output_type": "stream",
     "text": [
      "['Marina', 'Marina']\n"
     ]
    }
   ],
   "source": [
    "lista_nomes = []\n",
    "\n",
    "while True:\n",
    "    nome= input('Digite o seu nome ou enter no vazio para sair: ')\n",
    "    if nome != '':\n",
    "        lista_nomes.append(nome)\n",
    "    else:\n",
    "        break\n",
    "\n",
    "print(lista_nomes)"
   ]
  },
  {
   "cell_type": "markdown",
   "metadata": {},
   "source": [
    "Criando uma pirâmide"
   ]
  },
  {
   "cell_type": "code",
   "execution_count": 18,
   "metadata": {},
   "outputs": [
    {
     "name": "stdout",
     "output_type": "stream",
     "text": [
      "     #\n",
      "    ###\n",
      "   #####\n",
      "  #######\n",
      " #########\n",
      "###########\n"
     ]
    }
   ],
   "source": [
    "while True:\n",
    "    altura = int(input('Digite a altura da pirâmide: '))\n",
    "    \n",
    "    if altura > 0:\n",
    "        break\n",
    "for i in range(altura):\n",
    "    print(' '* (altura -(i + 1)) + '#' * (2*i +1))"
   ]
  }
 ],
 "metadata": {
  "kernelspec": {
   "display_name": "venv",
   "language": "python",
   "name": "python3"
  },
  "language_info": {
   "codemirror_mode": {
    "name": "ipython",
    "version": 3
   },
   "file_extension": ".py",
   "mimetype": "text/x-python",
   "name": "python",
   "nbconvert_exporter": "python",
   "pygments_lexer": "ipython3",
   "version": "3.12.5"
  }
 },
 "nbformat": 4,
 "nbformat_minor": 2
}
