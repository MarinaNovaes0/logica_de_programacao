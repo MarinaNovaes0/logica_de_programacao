{
 "cells": [
  {
   "cell_type": "markdown",
   "metadata": {},
   "source": [
    "## Criando Banco de Dados\n",
    "\n",
    "- Criar modelos conceitual e lógico(no lógico lembrar de identificar o tipo de dado)\n",
    "- Iniciar o XAMPP e depois abrir abrir o Shel e escrever esses códigos"
   ]
  },
  {
   "cell_type": "code",
   "execution_count": null,
   "metadata": {
    "vscode": {
     "languageId": "sql"
    }
   },
   "outputs": [],
   "source": [
    "mysql -u root -p\n",
    "\n",
    "create user 'novaes'@'localhost' IDENTIFIED by 'projeto123'\n",
    "\n",
    "grant all privileges on *.* to 'novaes'@'localhost';\n",
    "\n",
    "create database if not exists projeto_crud character set utf8mb4 collate utf8mb4_unicode_ci;\n",
    "\n",
    "exit\n",
    "\n",
    "mysql -u novaes -p\n",
    "\n",
    "use projeto_crud\n",
    "\n",
    "create table Usuario(\n",
    "ID int primary key auto_increment,\n",
    "Nome varchar(120) not null,\n",
    "Email varchar(120) unique,\n",
    "Senha varchar(120)\n",
    ");\n"
   ]
  },
  {
   "cell_type": "markdown",
   "metadata": {},
   "source": [
    "- username='novaes'\n",
    "- hostname = 'localhost'\n",
    "- password = 'projeto123'\n",
    "- db = 'projeto_crud'"
   ]
  },
  {
   "cell_type": "markdown",
   "metadata": {},
   "source": [
    "- No MySql colocar o nome do projeto, o nome de usuário e a senha\n",
    "- Depois escrever os segintes códigos"
   ]
  },
  {
   "cell_type": "code",
   "execution_count": null,
   "metadata": {
    "vscode": {
     "languageId": "sql"
    }
   },
   "outputs": [],
   "source": [
    "show databases;\n",
    "use projeto_crud;\n",
    "show tables;\n",
    "desc Usuario;\n",
    "\n",
    "insert into Usuario(nome, email, senha)\n",
    " values\n",
    "('gomes','gomes@email','123456'),\n",
    "('dias','dias@email','dias123'),\n",
    "('carvalho','carvalho@email','carvalho123');\n",
    "\n",
    "select nome,email,senha from Usuario;\n"
   ]
  },
  {
   "cell_type": "markdown",
   "metadata": {},
   "source": [
    "No terminal do VsCode seguinte código"
   ]
  },
  {
   "cell_type": "code",
   "execution_count": null,
   "metadata": {
    "vscode": {
     "languageId": "powershell"
    }
   },
   "outputs": [],
   "source": [
    "pip install mysql-connector-python\n",
    "pip freeze"
   ]
  },
  {
   "cell_type": "code",
   "execution_count": null,
   "metadata": {},
   "outputs": [],
   "source": [
    "#Colar a versão\n",
    "#mysql-connector-python==9.0.0\n",
    "\n",
    "import mysql\n",
    "import mysql.connector\n",
    "conn = mysql.connector.connect(\n",
    "    username='novaes'\n",
    "    hostname = 'localhost'\n",
    "    password = 'projeto123'\n",
    "    db = 'projeto_crud'\n",
    ")"
   ]
  },
  {
   "cell_type": "markdown",
   "metadata": {},
   "source": []
  }
 ],
 "metadata": {
  "language_info": {
   "name": "python"
  }
 },
 "nbformat": 4,
 "nbformat_minor": 2
}
