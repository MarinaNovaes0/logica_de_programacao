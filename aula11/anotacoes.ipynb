{
 "cells": [
  {
   "cell_type": "markdown",
   "metadata": {},
   "source": [
    " mysql -u root -p\n",
    "\n",
    " create user 'novaes'@'localhost' IDENTIFIED by 'projeto123'\n",
    "\n",
    "  grant all privileges on *.* to 'novaes'@'localhost';\n",
    "\n",
    "  create database if not exists projeto_crud character set utf8mb4 collate utf8mb4_unicode_ci;"
   ]
  }
 ],
 "metadata": {
  "language_info": {
   "name": "python"
  }
 },
 "nbformat": 4,
 "nbformat_minor": 2
}
